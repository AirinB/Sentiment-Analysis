{
 "cells": [
  {
   "cell_type": "code",
   "execution_count": 2,
   "metadata": {},
   "outputs": [],
   "source": [
    "import pandas as pd\n",
    "import numpy as np\n",
    "import torch\n",
    "from torch import nn\n",
    "from keras.preprocessing.text import Tokenizer\n",
    "from keras.preprocessing.sequence import pad_sequences"
   ]
  },
  {
   "cell_type": "markdown",
   "metadata": {},
   "source": [
    "#### Preparing Data"
   ]
  },
  {
   "cell_type": "code",
   "execution_count": 3,
   "metadata": {},
   "outputs": [
    {
     "data": {
      "text/html": [
       "<div>\n",
       "<style scoped>\n",
       "    .dataframe tbody tr th:only-of-type {\n",
       "        vertical-align: middle;\n",
       "    }\n",
       "\n",
       "    .dataframe tbody tr th {\n",
       "        vertical-align: top;\n",
       "    }\n",
       "\n",
       "    .dataframe thead th {\n",
       "        text-align: right;\n",
       "    }\n",
       "</style>\n",
       "<table border=\"1\" class=\"dataframe\">\n",
       "  <thead>\n",
       "    <tr style=\"text-align: right;\">\n",
       "      <th></th>\n",
       "      <th>text</th>\n",
       "      <th>label</th>\n",
       "    </tr>\n",
       "  </thead>\n",
       "  <tbody>\n",
       "    <tr>\n",
       "      <th>0</th>\n",
       "      <td>I grew up (b. 1965) watching and loving the Th...</td>\n",
       "      <td>0</td>\n",
       "    </tr>\n",
       "    <tr>\n",
       "      <th>1</th>\n",
       "      <td>When I put this movie in my DVD player, and sa...</td>\n",
       "      <td>0</td>\n",
       "    </tr>\n",
       "    <tr>\n",
       "      <th>2</th>\n",
       "      <td>Why do people who do not know what a particula...</td>\n",
       "      <td>0</td>\n",
       "    </tr>\n",
       "    <tr>\n",
       "      <th>3</th>\n",
       "      <td>Even though I have great interest in Biblical ...</td>\n",
       "      <td>0</td>\n",
       "    </tr>\n",
       "    <tr>\n",
       "      <th>4</th>\n",
       "      <td>Im a die hard Dads Army fan and nothing will e...</td>\n",
       "      <td>1</td>\n",
       "    </tr>\n",
       "  </tbody>\n",
       "</table>\n",
       "</div>"
      ],
      "text/plain": [
       "                                                text  label\n",
       "0  I grew up (b. 1965) watching and loving the Th...      0\n",
       "1  When I put this movie in my DVD player, and sa...      0\n",
       "2  Why do people who do not know what a particula...      0\n",
       "3  Even though I have great interest in Biblical ...      0\n",
       "4  Im a die hard Dads Army fan and nothing will e...      1"
      ]
     },
     "execution_count": 3,
     "metadata": {},
     "output_type": "execute_result"
    }
   ],
   "source": [
    "train_data = pd.read_csv('./archive/Train.csv')\n",
    "test_data = pd.read_csv('./archive/Test.csv')\n",
    "validation_data = pd.read_csv('./archive/Valid.csv')\n",
    "train_data.head()\n"
   ]
  },
  {
   "cell_type": "markdown",
   "metadata": {},
   "source": [
    "### Downsampling\n",
    "\n",
    "We don't need much data to train the model, let's downsample it and train on a small subset."
   ]
  },
  {
   "cell_type": "code",
   "execution_count": 5,
   "metadata": {},
   "outputs": [
    {
     "data": {
      "text/html": [
       "<div>\n",
       "<style scoped>\n",
       "    .dataframe tbody tr th:only-of-type {\n",
       "        vertical-align: middle;\n",
       "    }\n",
       "\n",
       "    .dataframe tbody tr th {\n",
       "        vertical-align: top;\n",
       "    }\n",
       "\n",
       "    .dataframe thead th {\n",
       "        text-align: right;\n",
       "    }\n",
       "</style>\n",
       "<table border=\"1\" class=\"dataframe\">\n",
       "  <thead>\n",
       "    <tr style=\"text-align: right;\">\n",
       "      <th></th>\n",
       "      <th>text</th>\n",
       "      <th>label</th>\n",
       "    </tr>\n",
       "  </thead>\n",
       "  <tbody>\n",
       "    <tr>\n",
       "      <th>0</th>\n",
       "      <td>I was reviewing some old VHS tapes I have and ...</td>\n",
       "      <td>1</td>\n",
       "    </tr>\n",
       "    <tr>\n",
       "      <th>1</th>\n",
       "      <td>I never really knew who Robert Wuhl was before...</td>\n",
       "      <td>1</td>\n",
       "    </tr>\n",
       "    <tr>\n",
       "      <th>2</th>\n",
       "      <td>This movie grabbed me with the incredible open...</td>\n",
       "      <td>1</td>\n",
       "    </tr>\n",
       "    <tr>\n",
       "      <th>3</th>\n",
       "      <td>Lame, cliched superhero action movie drivel. I...</td>\n",
       "      <td>0</td>\n",
       "    </tr>\n",
       "    <tr>\n",
       "      <th>4</th>\n",
       "      <td>Little did I know that when I signed up the th...</td>\n",
       "      <td>0</td>\n",
       "    </tr>\n",
       "  </tbody>\n",
       "</table>\n",
       "</div>"
      ],
      "text/plain": [
       "                                                text  label\n",
       "0  I was reviewing some old VHS tapes I have and ...      1\n",
       "1  I never really knew who Robert Wuhl was before...      1\n",
       "2  This movie grabbed me with the incredible open...      1\n",
       "3  Lame, cliched superhero action movie drivel. I...      0\n",
       "4  Little did I know that when I signed up the th...      0"
      ]
     },
     "execution_count": 5,
     "metadata": {},
     "output_type": "execute_result"
    }
   ],
   "source": [
    "train_data = train_data.sample(1000, random_state=1).reset_index(drop=True)\n",
    "test_data = test_data.sample(200, random_state=1).reset_index(drop=True)\n",
    "validation_data = validation_data.sample(200, random_state=1).reset_index(drop=True)\n",
    "train_data.head()"
   ]
  },
  {
   "cell_type": "code",
   "execution_count": 6,
   "metadata": {},
   "outputs": [
    {
     "name": "stdout",
     "output_type": "stream",
     "text": [
      "1000 1000\n",
      "200 200\n",
      "200 200\n"
     ]
    }
   ],
   "source": [
    "x_tr, y_tr = train_data['text'].values.astype(str), train_data['label'].values\n",
    "x_val, y_val = validation_data['text'].values.astype(str), validation_data['label'].values\n",
    "x_test,y_test = test_data['text'].values.astype(str) , test_data['label'].values\n",
    "print(len(x_tr), len(y_tr))\n",
    "print(len(x_val), len(y_val))\n",
    "print(len(x_test), len(y_test))"
   ]
  },
  {
   "cell_type": "code",
   "execution_count": 7,
   "metadata": {},
   "outputs": [],
   "source": [
    "#Tokenize the sentences\n",
    "from string import punctuation\n",
    "#convert all revies to lowercase\n",
    "x_tr = np.char.lower(x_tr)\n",
    "x_val = np.char.lower(x_val)\n",
    "x_test = np.char.lower(x_test)\n",
    "\n",
    "#remove punctuation\n",
    "x_tr= [c for c in x_tr if c not in punctuation]\n",
    "x_val = [c for c in x_val if c not in punctuation]\n",
    "x_test = [c for c in x_test if c not in punctuation]"
   ]
  },
  {
   "cell_type": "code",
   "execution_count": 18,
   "metadata": {},
   "outputs": [],
   "source": [
    "def read_glove_vector(glove_vec):\n",
    "    with open(glove_vec, 'r', encoding='UTF-8') as f:\n",
    "        words = set()\n",
    "        word_to_vec_map = {}\n",
    "        for line in f:\n",
    "            w_line = line.split()\n",
    "            curr_word = w_line[0]\n",
    "            word_to_vec_map[curr_word] = np.array(w_line[1:], dtype=np.float64)\n",
    "\n",
    "\n",
    "\n",
    "    return word_to_vec_map"
   ]
  },
  {
   "cell_type": "code",
   "execution_count": 20,
   "metadata": {},
   "outputs": [],
   "source": [
    "glove_embedding =  read_glove_vector('glove.6B.100d.txt')\n"
   ]
  },
  {
   "cell_type": "code",
   "execution_count": 22,
   "metadata": {},
   "outputs": [],
   "source": [
    "def create_embedding_matrix(word_index,embedding_dict,dimension):\n",
    "    embedding_matrix=np.zeros((len(word_index)+1,dimension))\n",
    "    for word,index in word_index.items():\n",
    "        if word in embedding_dict:\n",
    "            embedding_matrix[index]=embedding_dict[word]\n",
    "    return embedding_matrix"
   ]
  },
  {
   "cell_type": "code",
   "execution_count": 25,
   "metadata": {},
   "outputs": [],
   "source": [
    "tokenizer = Tokenizer()\n",
    "\n",
    "#preparing vocabulary\n",
    "tokenizer.fit_on_texts(list(x_tr))\n",
    "\n",
    "#converting text into integer sequences\n",
    "x_tr_seq  = tokenizer.texts_to_sequences(x_tr) \n",
    "x_val_seq = tokenizer.texts_to_sequences(x_val)\n",
    "x_test_seq = tokenizer.texts_to_sequences(x_test)\n",
    "\n",
    "\n",
    "#padding to prepare sequences of same length\n",
    "x_tr_pad  = pad_sequences(x_tr_seq, maxlen=1000)\n",
    "x_val_pad = pad_sequences(x_val_seq, maxlen=1000)\n",
    "x_test_pad = pad_sequences(x_test_seq,maxlen=1000)"
   ]
  },
  {
   "cell_type": "code",
   "execution_count": 26,
   "metadata": {},
   "outputs": [],
   "source": [
    "\n",
    "embedding_matrix=create_embedding_matrix(tokenizer.word_index,embedding_dict=glove_embedding,dimension=100)"
   ]
  },
  {
   "cell_type": "code",
   "execution_count": 32,
   "metadata": {},
   "outputs": [
    {
     "name": "stdout",
     "output_type": "stream",
     "text": [
      "18828\n"
     ]
    },
    {
     "data": {
      "text/plain": [
       "100"
      ]
     },
     "execution_count": 32,
     "metadata": {},
     "output_type": "execute_result"
    }
   ],
   "source": [
    "vocab_size=embedding_matrix.shape[0]\n",
    "vector_size=embedding_matrix.shape[1]\n",
    "print(vocab_size)\n",
    "vector_size"
   ]
  },
  {
   "cell_type": "markdown",
   "metadata": {},
   "source": [
    "We will need the original lengths of each sequence later:"
   ]
  },
  {
   "cell_type": "code",
   "execution_count": 33,
   "metadata": {},
   "outputs": [],
   "source": [
    "#length of the reviews\n",
    "seqlen_train = [len(x) for x in x_tr_seq]\n",
    "seqlen_val = [len(x) for x in x_val_seq] \n",
    "seqlen_test = [len(x) for x in x_test_seq] "
   ]
  },
  {
   "cell_type": "code",
   "execution_count": 34,
   "metadata": {},
   "outputs": [
    {
     "name": "stdout",
     "output_type": "stream",
     "text": [
      "18828\n"
     ]
    }
   ],
   "source": [
    "# this might be an issue \n",
    "vocab=len(tokenizer.word_index) + 1 #+1 for padding\n",
    "print(vocab)"
   ]
  },
  {
   "cell_type": "markdown",
   "metadata": {},
   "source": [
    "## Creating Tensors"
   ]
  },
  {
   "cell_type": "markdown",
   "metadata": {},
   "source": [
    "#### Extract input and output tensors"
   ]
  },
  {
   "cell_type": "code",
   "execution_count": 35,
   "metadata": {},
   "outputs": [
    {
     "name": "stdout",
     "output_type": "stream",
     "text": [
      "torch.Size([1000, 1000]),\n",
      "torch.Size([1000])\n",
      "torch.Size([1000])\n",
      "\n",
      "tensor dimensions <built-in method dim of Tensor object at 0x00000282562E8200>\n",
      "torch.Size([200, 1000]),\n",
      "torch.Size([200])\n",
      "torch.Size([200])\n",
      "\n",
      "torch.Size([200, 1000]),\n",
      "torch.Size([200])\n",
      "torch.Size([200])\n"
     ]
    },
    {
     "name": "stderr",
     "output_type": "stream",
     "text": [
      "<ipython-input-35-4167dc690721>:4: UserWarning: To copy construct from a tensor, it is recommended to use sourceTensor.clone().detach() or sourceTensor.clone().detach().requires_grad_(True), rather than torch.tensor(sourceTensor).\n",
      "  X_train = torch.tensor(X_tr).to(torch.int64)\n",
      "<ipython-input-35-4167dc690721>:12: UserWarning: To copy construct from a tensor, it is recommended to use sourceTensor.clone().detach() or sourceTensor.clone().detach().requires_grad_(True), rather than torch.tensor(sourceTensor).\n",
      "  X_val = torch.tensor(X_v).to(torch.torch.int64)\n",
      "<ipython-input-35-4167dc690721>:20: UserWarning: To copy construct from a tensor, it is recommended to use sourceTensor.clone().detach() or sourceTensor.clone().detach().requires_grad_(True), rather than torch.tensor(sourceTensor).\n",
      "  X_test = torch.tensor(X_t).to(torch.torch.int64)\n"
     ]
    }
   ],
   "source": [
    "# x = torch.tensor(train).to(torch.float64)\n",
    "\n",
    "X_tr = torch.from_numpy(np.array(list(x_tr_pad)))\n",
    "X_train = torch.tensor(X_tr).to(torch.int64)\n",
    "\n",
    "y_train = torch.LongTensor(y_tr)\n",
    "seqlen_train = torch.LongTensor(seqlen_train)\n",
    "print(f\"{X_train.size()},\\n{y_train.size()}\\n{seqlen_train.size() }\\n\")\n",
    "print(\"tensor dimensions\", X_train.dim)\n",
    "\n",
    "X_v = torch.from_numpy(np.array(list(x_val_pad)))\n",
    "X_val = torch.tensor(X_v).to(torch.torch.int64)\n",
    "\n",
    "y_val = torch.LongTensor(y_val)\n",
    "seqlen_val = torch.LongTensor(seqlen_val)\n",
    "print(f\"{X_val.size() },\\n{y_val.size() }\\n{seqlen_val.size() }\\n\")\n",
    "\n",
    "\n",
    "X_t = torch.from_numpy(np.array(list(x_test_pad)))\n",
    "X_test = torch.tensor(X_t).to(torch.torch.int64)\n",
    "\n",
    "y_test = torch.LongTensor(y_test)\n",
    "seqlen_test = torch.LongTensor(seqlen_test)\n",
    "print(f\"{X_test.size() },\\n{y_test.size() }\\n{seqlen_test.size() }\")\n"
   ]
  },
  {
   "cell_type": "markdown",
   "metadata": {},
   "source": [
    "## The `LSTMClassifier` class\n",
    "\n",
    "We now define our own LSTM sequence classifier model.\n",
    "\n",
    "All PyTorch modules must subclass `nn.Module` (or one of its subclasses) and call `init` before any attribute assignment.\n",
    "\n",
    "There two methods we have to implement:\n",
    "- `__init__`: defines submodules. These constitute the nodes _computation graph_.\n",
    "- `forward` implements the forward pass of the module. This is how we map the input to the output. The way we pass the input through the module implicitly builds a directed graph of the submodules named _computation graph_."
   ]
  },
  {
   "cell_type": "code",
   "execution_count": 38,
   "metadata": {},
   "outputs": [],
   "source": [
    "class LSTMClassifier(nn.Module):\n",
    "    def __init__(self, input_size, embedding_size, hidden_size, output_size):\n",
    "        super().__init__()\n",
    "        self.embedding = nn.Embedding(input_size, embedding_size)\n",
    "        self.lstm = nn.LSTM(\n",
    "            input_size=embedding_size,\n",
    "            hidden_size=hidden_size,\n",
    "            num_layers=1,\n",
    "            bidirectional=True,\n",
    "            batch_first=True,\n",
    "        )\n",
    "        self.dense = nn.Linear(hidden_size * 2, output_size)\n",
    "        \n",
    "    # the input signature of forward changes\n",
    "    def forward(self, sequences, sequence_lens):\n",
    "        embedded = self.embedding(sequences)\n",
    "        \n",
    "        # THIS IS THE MODIFIED PART\n",
    "        # returns a PackedSequence object\n",
    "        packed = nn.utils.rnn.pack_padded_sequence(\n",
    "            embedded,\n",
    "            sequence_lens.clamp(max=1000),\n",
    "            enforce_sorted=False,\n",
    "            batch_first=True)\n",
    "        packed_outputs, (h, c) = self.lstm(packed)\n",
    "        # extract LSTM outputs (not used here)\n",
    "        lstm_outputs, lens = nn.utils.rnn.pad_packed_sequence(packed_outputs)\n",
    "        \n",
    "        h = torch.cat((h[0], h[1]), dim=-1)\n",
    "        output = self.dense(h)\n",
    "        return output"
   ]
  },
  {
   "cell_type": "markdown",
   "metadata": {},
   "source": [
    "## Instantiating the model"
   ]
  },
  {
   "cell_type": "code",
   "execution_count": 39,
   "metadata": {},
   "outputs": [
    {
     "data": {
      "text/plain": [
       "LSTMClassifier(\n",
       "  (embedding): Embedding(18828, 100)\n",
       "  (lstm): LSTM(100, 64, batch_first=True, bidirectional=True)\n",
       "  (dense): Linear(in_features=128, out_features=2, bias=True)\n",
       ")"
      ]
     },
     "execution_count": 39,
     "metadata": {},
     "output_type": "execute_result"
    }
   ],
   "source": [
    "input_size = vocab_size\n",
    "embedding_size = 100\n",
    "hidden_size = 64\n",
    "# number of labels i.e 2\n",
    "output_size = train_data.label.nunique()\n",
    "\n",
    "model = LSTMClassifier(input_size, embedding_size, hidden_size, output_size)\n",
    "model"
   ]
  },
  {
   "cell_type": "markdown",
   "metadata": {},
   "source": [
    "## Batching"
   ]
  },
  {
   "cell_type": "code",
   "execution_count": 40,
   "metadata": {},
   "outputs": [],
   "source": [
    "class BatchedIterator:\n",
    "    def __init__(self, *tensors, batch_size):\n",
    "        # all tensors must have the same first dimension\n",
    "        assert len(set(len(tensor) for tensor in tensors)) == 1\n",
    "        self.tensors = tensors\n",
    "        self.batch_size = batch_size\n",
    "    \n",
    "    def iterate_once(self):\n",
    "        num_data = len(self.tensors[0])\n",
    "        for start in range(0, num_data, self.batch_size):\n",
    "            end = start + self.batch_size\n",
    "            yield tuple(tensor[start:end] for tensor in self.tensors)\n",
    "            "
   ]
  },
  {
   "cell_type": "code",
   "execution_count": 43,
   "metadata": {},
   "outputs": [
    {
     "name": "stdout",
     "output_type": "stream",
     "text": [
      "torch.Size([64, 1000]), torch.Size([64]), torch.Size([64])\n",
      "torch.Size([64, 1000]), torch.Size([64]), torch.Size([64])\n",
      "torch.Size([64, 1000]), torch.Size([64]), torch.Size([64])\n",
      "torch.Size([64, 1000]), torch.Size([64]), torch.Size([64])\n",
      "torch.Size([64, 1000]), torch.Size([64]), torch.Size([64])\n",
      "torch.Size([64, 1000]), torch.Size([64]), torch.Size([64])\n",
      "torch.Size([64, 1000]), torch.Size([64]), torch.Size([64])\n",
      "torch.Size([64, 1000]), torch.Size([64]), torch.Size([64])\n",
      "torch.Size([64, 1000]), torch.Size([64]), torch.Size([64])\n",
      "torch.Size([64, 1000]), torch.Size([64]), torch.Size([64])\n",
      "torch.Size([64, 1000]), torch.Size([64]), torch.Size([64])\n",
      "torch.Size([64, 1000]), torch.Size([64]), torch.Size([64])\n",
      "torch.Size([64, 1000]), torch.Size([64]), torch.Size([64])\n",
      "torch.Size([64, 1000]), torch.Size([64]), torch.Size([64])\n",
      "torch.Size([64, 1000]), torch.Size([64]), torch.Size([64])\n",
      "torch.Size([40, 1000]), torch.Size([40]), torch.Size([40])\n"
     ]
    }
   ],
   "source": [
    "train_iter = BatchedIterator(X_train, seqlen_train, y_train, batch_size=64)\n",
    "#prints number of batches\n",
    "for X, seqlens, y in train_iter.iterate_once():\n",
    "    print(f\"{X.size()  }, {seqlens.size()  }, {y.size() }\")"
   ]
  },
  {
   "cell_type": "markdown",
   "metadata": {},
   "source": [
    " ## Loss function and optimizer\n",
    "\n",
    "The **loss function** or **cost function** quantifies cost of the model output differing from the expected target values.\n",
    "\n",
    "The optimizer adjusts the model's parameters in accordance with the loss."
   ]
  },
  {
   "cell_type": "code",
   "execution_count": 44,
   "metadata": {},
   "outputs": [],
   "source": [
    "from torch import optim\n",
    "criterion = nn.CrossEntropyLoss()\n",
    "optimizer = optim.Adam(model.parameters())"
   ]
  },
  {
   "cell_type": "markdown",
   "metadata": {},
   "source": [
    "## Sanity check on Untrained models\n",
    "Train and val accuracy should be really bad without training."
   ]
  },
  {
   "cell_type": "code",
   "execution_count": 45,
   "metadata": {},
   "outputs": [
    {
     "name": "stdout",
     "output_type": "stream",
     "text": [
      "Train accuracy: 48.4%\n"
     ]
    }
   ],
   "source": [
    "# requires a large memory as we have a large vocab\n",
    "logits = model(X_train, seqlen_train)\n",
    "y = logits.argmax(axis=1)\n",
    "accuracy = torch.sum(torch.eq(y, y_train)) / y.size(0)\n",
    "print(f\"Train accuracy: {accuracy:.1%}\")"
   ]
  },
  {
   "cell_type": "code",
   "execution_count": 46,
   "metadata": {},
   "outputs": [
    {
     "name": "stdout",
     "output_type": "stream",
     "text": [
      "Val accuracy: 53.5%\n"
     ]
    }
   ],
   "source": [
    "logits = model(X_val, seqlen_val)\n",
    "y = logits.argmax(axis=1)\n",
    "accuracy = torch.sum(torch.eq(y, y_val)) / y.size(0)\n",
    "print(f\"Val accuracy: {accuracy:.1%}\")"
   ]
  },
  {
   "cell_type": "markdown",
   "metadata": {},
   "source": [
    "## Training\n",
    "\n",
    "\n",
    "We collect training statistics at the end of each epochs in `metrics`."
   ]
  },
  {
   "cell_type": "code",
   "execution_count": 48,
   "metadata": {},
   "outputs": [],
   "source": [
    "from collections import defaultdict\n",
    "num_epochs = 30 \n",
    "batch_size = 128\n",
    "\n",
    "metrics = defaultdict(list)\n",
    "train_iter = BatchedIterator(X_train, seqlen_train, y_train, batch_size=batch_size)"
   ]
  },
  {
   "cell_type": "markdown",
   "metadata": {},
   "source": [
    "We train the model batch by batch and then evaluate it on the train and the dev data at the end of each epoch.\n",
    "Since the dataset is small, we can evaluate it the whole data in one step without batching.\n",
    "\n",
    "Note that the model should be set to **train** or **eval** mode accordingly. Stochastic steps such as dropout are disabled in **eval** mode."
   ]
  },
  {
   "cell_type": "code",
   "execution_count": 49,
   "metadata": {},
   "outputs": [
    {
     "name": "stdout",
     "output_type": "stream",
     "text": [
      "0 -- 0.693 - 49.2% - 0.691 - 53.5%\n",
      "1 -- 0.691 - 53.0% - 0.696 - 49.0%\n",
      "2 -- 0.689 - 53.7% - 0.693 - 49.5%\n",
      "3 -- 0.688 - 54.0% - 0.691 - 49.5%\n",
      "4 -- 0.686 - 54.3% - 0.693 - 49.5%\n",
      "5 -- 0.685 - 54.2% - 0.691 - 49.0%\n",
      "6 -- 0.683 - 54.3% - 0.692 - 49.0%\n",
      "7 -- 0.681 - 54.3% - 0.691 - 49.0%\n",
      "8 -- 0.679 - 54.5% - 0.691 - 49.0%\n",
      "9 -- 0.676 - 55.1% - 0.692 - 49.0%\n",
      "10 -- 0.673 - 55.1% - 0.692 - 49.0%\n",
      "11 -- 0.669 - 55.2% - 0.693 - 49.0%\n",
      "12 -- 0.665 - 55.5% - 0.694 - 49.0%\n",
      "13 -- 0.660 - 55.6% - 0.697 - 48.5%\n",
      "14 -- 0.654 - 55.6% - 0.703 - 47.5%\n",
      "15 -- 0.648 - 55.8% - 0.713 - 47.5%\n",
      "16 -- 0.646 - 55.7% - 0.725 - 48.0%\n",
      "17 -- 0.645 - 55.8% - 0.724 - 47.5%\n",
      "18 -- 0.642 - 55.8% - 0.727 - 47.5%\n",
      "19 -- 0.640 - 55.8% - 0.731 - 47.0%\n",
      "20 -- 0.639 - 55.8% - 0.736 - 47.5%\n",
      "21 -- 0.638 - 55.8% - 0.755 - 47.5%\n",
      "22 -- 0.637 - 55.8% - 0.767 - 47.0%\n",
      "23 -- 0.637 - 55.8% - 0.755 - 47.5%\n",
      "24 -- 0.637 - 55.8% - 0.761 - 48.0%\n",
      "25 -- 0.637 - 55.8% - 0.787 - 47.0%\n",
      "26 -- 0.636 - 55.8% - 0.792 - 47.0%\n",
      "27 -- 0.636 - 55.8% - 0.795 - 47.0%\n",
      "28 -- 0.636 - 55.8% - 0.745 - 49.0%\n",
      "29 -- 0.638 - 55.7% - 0.810 - 46.0%\n"
     ]
    }
   ],
   "source": [
    "patience = 2\n",
    "patience_counter = 0\n",
    "previous_loss = 100\n",
    "previous_accuracy = 0\n",
    "for epoch in range(num_epochs):\n",
    "   \n",
    "    model.train()\n",
    "    # Training loop\n",
    "    for X_batch, seqlen_batch, y_batch in train_iter.iterate_once():\n",
    "        y_out = model(X_batch, seqlen_batch)\n",
    "        loss = criterion(y_out, y_batch)\n",
    "        optimizer.zero_grad()\n",
    "        loss.backward()\n",
    "        optimizer.step()\n",
    "        \n",
    "    with torch.no_grad():\n",
    "        model.eval()  # or model.train(False)\n",
    "        # Train and dev loss at the end of the epoch\n",
    "        y_out = model(X_train, seqlen_train)\n",
    "        train_loss = criterion(y_out, y_train).item()\n",
    "        metrics['train_loss'].append(train_loss)\n",
    "        labels = y_out.argmax(axis=1)\n",
    "        train_accuracy = (torch.eq(y_train, labels).sum() / labels.size(0)).item()\n",
    "        metrics['train_accuracy'].append(train_accuracy)\n",
    "\n",
    "        y_out = model(X_val, seqlen_val)\n",
    "        val_loss = criterion(y_out, y_val).item()\n",
    "        metrics['val_loss'].append(val_loss)\n",
    "        labels = y_out.argmax(axis=1)\n",
    "        val_accuracy = (torch.eq(y_val, labels).sum() / labels.size(0)).item()\n",
    "        metrics['val_accuracy'].append(val_accuracy)\n",
    "        \n",
    "        if val_accuracy <= previous_accuracy and val_loss <= previous_loss:\n",
    "            patience_counter += 1\n",
    "            \n",
    "        previous_accuracy = val_accuracy\n",
    "        previous_loss = val_loss\n",
    "            \n",
    "    \n",
    "    print(f\"{epoch} -- {train_loss:.3f} - {train_accuracy:.1%} - {val_loss:.3f} - {val_accuracy:.1%}\")\n",
    "    \n",
    "#     if patience_counter == patience:\n",
    "#             break"
   ]
  },
  {
   "cell_type": "markdown",
   "metadata": {},
   "source": [
    "## Evaluation\n",
    "\n",
    "### Training curves"
   ]
  },
  {
   "cell_type": "code",
   "execution_count": 50,
   "metadata": {},
   "outputs": [
    {
     "data": {
      "text/plain": [
       "<AxesSubplot:>"
      ]
     },
     "execution_count": 50,
     "metadata": {},
     "output_type": "execute_result"
    },
    {
     "data": {
      "image/png": "[encoded data removed]",
      "text/plain": [
       "<Figure size 1152x288 with 2 Axes>"
      ]
     },
     "metadata": {
      "needs_background": "light"
     },
     "output_type": "display_data"
    }
   ],
   "source": [
    "import matplotlib.pyplot as plt\n",
    "import seaborn as sns\n",
    "\n",
    "fig, ax = plt.subplots(1, 2, figsize=(16, 4))\n",
    "\n",
    "sns.lineplot(data=metrics['train_loss'], ax=ax[0], label='train loss')\n",
    "sns.lineplot(data=metrics['val_loss'], ax=ax[0], label='val loss')\n",
    "\n",
    "sns.lineplot(data=metrics['train_accuracy'], ax=ax[1], label='train acc')\n",
    "sns.lineplot(data=metrics['val_accuracy'], ax=ax[1], label='val acc')"
   ]
  },
  {
   "cell_type": "markdown",
   "metadata": {},
   "source": [
    "## Test accuracy"
   ]
  },
  {
   "cell_type": "code",
   "execution_count": 51,
   "metadata": {},
   "outputs": [],
   "source": [
    "from sklearn.metrics import f1_score, precision_score, recall_score, confusion_matrix"
   ]
  },
  {
   "cell_type": "code",
   "execution_count": 52,
   "metadata": {},
   "outputs": [
    {
     "name": "stdout",
     "output_type": "stream",
     "text": [
      "Test accuracy: 52.0%\n"
     ]
    }
   ],
   "source": [
    "logits = model(X_test, seqlen_test)\n",
    "test_prediction = logits.argmax(axis=1)\n",
    "test_accuracy = torch.sum(torch.eq(test_prediction, y_test)) / y_test.size(0)\n",
    "print(f\"Test accuracy: {test_accuracy:.1%}\")"
   ]
  },
  {
   "cell_type": "code",
   "execution_count": 58,
   "metadata": {},
   "outputs": [
    {
     "name": "stdout",
     "output_type": "stream",
     "text": [
      "Test precision : 75.9%\n"
     ]
    }
   ],
   "source": [
    "logits = model(X_test,seqlen_test)\n",
    "\n",
    "test_pred = np.argmax(logits.detach().numpy(),axis =1)\n",
    "test_precision = precision_score(y_test,test_pred,average = \"macro\")\n",
    "print(f\"Test precision : {test_precision:.1%}\")"
   ]
  },
  {
   "cell_type": "code",
   "execution_count": 61,
   "metadata": {},
   "outputs": [
    {
     "name": "stdout",
     "output_type": "stream",
     "text": [
      "Recall score : 50.5%\n"
     ]
    }
   ],
   "source": [
    "r1 = recall_score(y_test,test_pred,average = \"macro\")\n",
    "print(f\"Recall score :{r1: .1%}\")"
   ]
  },
  {
   "cell_type": "code",
   "execution_count": 64,
   "metadata": {},
   "outputs": [
    {
     "data": {
      "text/plain": [
       "array([[103,   0],\n",
       "       [ 96,   1]], dtype=int64)"
      ]
     },
     "execution_count": 64,
     "metadata": {},
     "output_type": "execute_result"
    }
   ],
   "source": [
    "mat = confusion_matrix(y_test,test_pred)\n",
    "mat"
   ]
  }
 ],
 "metadata": {
  "kernelspec": {
   "display_name": "Python 3",
   "language": "python",
   "name": "python3"
  },
  "language_info": {
   "codemirror_mode": {
    "name": "ipython",
    "version": 3
   },
   "file_extension": ".py",
   "mimetype": "text/x-python",
   "name": "python",
   "nbconvert_exporter": "python",
   "pygments_lexer": "ipython3",
   "version": "3.8.10"
  }
 },
 "nbformat": 4,
 "nbformat_minor": 4
}
